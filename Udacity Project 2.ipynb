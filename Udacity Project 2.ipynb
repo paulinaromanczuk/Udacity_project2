{
 "cells": [
  {
   "cell_type": "markdown",
   "id": "5ff132e6",
   "metadata": {},
   "source": [
    "# Project: Investigate medical no-shows dataset\n"
   ]
  },
  {
   "cell_type": "markdown",
   "id": "41265b13",
   "metadata": {},
   "source": [
    "## First steps & Data Wrangling"
   ]
  },
  {
   "cell_type": "markdown",
   "id": "068cfb59",
   "metadata": {},
   "source": [
    "Importing libraries and loading csv file, parsing two columns as dates"
   ]
  },
  {
   "cell_type": "code",
   "execution_count": 1,
   "id": "2725f9e8",
   "metadata": {},
   "outputs": [
    {
     "name": "stdout",
     "output_type": "stream",
     "text": [
      "      PatientId  AppointmentID Gender              ScheduledDay  \\\n",
      "0  2.987250e+13        5642903      F 2016-04-29 18:38:08+00:00   \n",
      "1  5.589978e+14        5642503      M 2016-04-29 16:08:27+00:00   \n",
      "2  4.262962e+12        5642549      F 2016-04-29 16:19:04+00:00   \n",
      "3  8.679512e+11        5642828      F 2016-04-29 17:29:31+00:00   \n",
      "4  8.841186e+12        5642494      F 2016-04-29 16:07:23+00:00   \n",
      "\n",
      "             AppointmentDay  Age      Neighbourhood  Scholarship  \\\n",
      "0 2016-04-29 00:00:00+00:00   62    JARDIM DA PENHA            0   \n",
      "1 2016-04-29 00:00:00+00:00   56    JARDIM DA PENHA            0   \n",
      "2 2016-04-29 00:00:00+00:00   62      MATA DA PRAIA            0   \n",
      "3 2016-04-29 00:00:00+00:00    8  PONTAL DE CAMBURI            0   \n",
      "4 2016-04-29 00:00:00+00:00   56    JARDIM DA PENHA            0   \n",
      "\n",
      "   Hipertension  Diabetes  Alcoholism  Handcap  SMS_received No-show  \n",
      "0             1         0           0        0             0      No  \n",
      "1             0         0           0        0             0      No  \n",
      "2             0         0           0        0             0      No  \n",
      "3             0         0           0        0             0      No  \n",
      "4             1         1           0        0             0      No  \n"
     ]
    }
   ],
   "source": [
    "import pandas as pd\n",
    "import seaborn as sns\n",
    "import matplotlib.pyplot as plt\n",
    "import numpy as np\n",
    "\n",
    "df=pd.read_csv('noshowappointments-kagglev2-may-2016.csv', parse_dates=[\"ScheduledDay\",\"AppointmentDay\"])\n",
    "print(df.head())"
   ]
  },
  {
   "cell_type": "markdown",
   "id": "c77460a1",
   "metadata": {},
   "source": [
    "# 2. What are the steps to be taken as part of the analysis?\n",
    "\n",
    "1. Check overall proportion of no-show\n",
    "2. Check whether any of variables has a higher proportion than other"
   ]
  },
  {
   "cell_type": "markdown",
   "id": "98f7f1a2",
   "metadata": {},
   "source": [
    "# 3. With a focus on questions below (but not limited to):\n",
    "1. Is there a difference between scheduled day and appointment day - do patients that make an appointment much in advance tend not to show up?\n",
    "2. Is alcoholism influencing whether patients show up more often or not?\n",
    "3. Are we increasing chances of patient showing up if we're sending reminders?\n",
    "4. Are there any patients that have a pattern of not showing up? Should we focus on some patients and send them reminders about the visit?"
   ]
  },
  {
   "cell_type": "code",
   "execution_count": 2,
   "id": "4ee431ee",
   "metadata": {},
   "outputs": [
    {
     "name": "stdout",
     "output_type": "stream",
     "text": [
      "<class 'pandas.core.frame.DataFrame'>\n",
      "RangeIndex: 110527 entries, 0 to 110526\n",
      "Data columns (total 14 columns):\n",
      " #   Column          Non-Null Count   Dtype              \n",
      "---  ------          --------------   -----              \n",
      " 0   PatientId       110527 non-null  float64            \n",
      " 1   AppointmentID   110527 non-null  int64              \n",
      " 2   Gender          110527 non-null  object             \n",
      " 3   ScheduledDay    110527 non-null  datetime64[ns, UTC]\n",
      " 4   AppointmentDay  110527 non-null  datetime64[ns, UTC]\n",
      " 5   Age             110527 non-null  int64              \n",
      " 6   Neighbourhood   110527 non-null  object             \n",
      " 7   Scholarship     110527 non-null  int64              \n",
      " 8   Hipertension    110527 non-null  int64              \n",
      " 9   Diabetes        110527 non-null  int64              \n",
      " 10  Alcoholism      110527 non-null  int64              \n",
      " 11  Handcap         110527 non-null  int64              \n",
      " 12  SMS_received    110527 non-null  int64              \n",
      " 13  No-show         110527 non-null  object             \n",
      "dtypes: datetime64[ns, UTC](2), float64(1), int64(8), object(3)\n",
      "memory usage: 11.8+ MB\n"
     ]
    }
   ],
   "source": [
    "df.info()"
   ]
  },
  {
   "cell_type": "markdown",
   "id": "0014fc62",
   "metadata": {},
   "source": [
    ">There are **110527** rows in a dataset\n",
    "\n",
    "\n",
    ">There are **no nulls** in none of the columns\n",
    "\n",
    "\n",
    ">Column \"PatientID\" has a float type - this will be changed to **str**, and zero at the end will be stripped"
   ]
  },
  {
   "cell_type": "code",
   "execution_count": 3,
   "id": "ac82cb17",
   "metadata": {},
   "outputs": [
    {
     "name": "stdout",
     "output_type": "stream",
     "text": [
      "<class 'pandas.core.frame.DataFrame'>\n",
      "RangeIndex: 110527 entries, 0 to 110526\n",
      "Data columns (total 14 columns):\n",
      " #   Column          Non-Null Count   Dtype              \n",
      "---  ------          --------------   -----              \n",
      " 0   PatientId       110527 non-null  object             \n",
      " 1   AppointmentID   110527 non-null  int64              \n",
      " 2   Gender          110527 non-null  object             \n",
      " 3   ScheduledDay    110527 non-null  datetime64[ns, UTC]\n",
      " 4   AppointmentDay  110527 non-null  datetime64[ns, UTC]\n",
      " 5   Age             110527 non-null  int64              \n",
      " 6   Neighbourhood   110527 non-null  object             \n",
      " 7   Scholarship     110527 non-null  int64              \n",
      " 8   Hipertension    110527 non-null  int64              \n",
      " 9   Diabetes        110527 non-null  int64              \n",
      " 10  Alcoholism      110527 non-null  int64              \n",
      " 11  Handcap         110527 non-null  int64              \n",
      " 12  SMS_received    110527 non-null  int64              \n",
      " 13  No-show         110527 non-null  object             \n",
      "dtypes: datetime64[ns, UTC](2), int64(8), object(4)\n",
      "memory usage: 11.8+ MB\n"
     ]
    }
   ],
   "source": [
    "df['PatientId'] = df['PatientId'].astype(str).str.rstrip('.0')\n",
    "#check whether change has been done\n",
    "df.info()\n"
   ]
  },
  {
   "cell_type": "code",
   "execution_count": 4,
   "id": "5a610e05",
   "metadata": {},
   "outputs": [],
   "source": [
    "#add a column with weekday, in order to later on check whether weekday has any influence of no-shows\n",
    "df['ApointmentWeekday'] = df['AppointmentDay'].dt.strftime(\"%A\")"
   ]
  },
  {
   "cell_type": "code",
   "execution_count": 5,
   "id": "12145b26",
   "metadata": {},
   "outputs": [
    {
     "name": "stdout",
     "output_type": "stream",
     "text": [
      "<class 'pandas.core.frame.DataFrame'>\n",
      "RangeIndex: 110527 entries, 0 to 110526\n",
      "Data columns (total 16 columns):\n",
      " #   Column             Non-Null Count   Dtype \n",
      "---  ------             --------------   ----- \n",
      " 0   PatientId          110527 non-null  object\n",
      " 1   AppointmentID      110527 non-null  int64 \n",
      " 2   Gender             110527 non-null  object\n",
      " 3   ScheduledDay       110527 non-null  object\n",
      " 4   AppointmentDay     110527 non-null  object\n",
      " 5   Age                110527 non-null  int64 \n",
      " 6   Neighbourhood      110527 non-null  object\n",
      " 7   Scholarship        110527 non-null  int64 \n",
      " 8   Hipertension       110527 non-null  int64 \n",
      " 9   Diabetes           110527 non-null  int64 \n",
      " 10  Alcoholism         110527 non-null  int64 \n",
      " 11  Handcap            110527 non-null  int64 \n",
      " 12  SMS_received       110527 non-null  int64 \n",
      " 13  No-show            110527 non-null  object\n",
      " 14  ApointmentWeekday  110527 non-null  object\n",
      " 15  Scheduled          110527 non-null  int64 \n",
      "dtypes: int64(9), object(7)\n",
      "memory usage: 13.5+ MB\n"
     ]
    }
   ],
   "source": [
    "#extract date from ScheduledDay and AppointmentDay columns\n",
    "\n",
    "df['ScheduledDay'] = pd.to_datetime(df['ScheduledDay'], errors='coerce').dt.date\n",
    "df['AppointmentDay'] = pd.to_datetime(df['AppointmentDay'], errors='coerce').dt.date\n",
    "\n",
    "#add 23h 59 mins and 59 sec to time of appointment, as all appointmentDates are as midnight\n",
    "df['AppointmentDay'] = df['AppointmentDay'] + pd.Timedelta('1d') - pd.Timedelta('1s')\n",
    "\n",
    "#calculate difference in days between Scheduled day and Appointment Day\n",
    "df['Scheduled'] = (df['AppointmentDay']-df['ScheduledDay']).dt.days\n",
    "\n",
    "df.info()"
   ]
  },
  {
   "cell_type": "code",
   "execution_count": 6,
   "id": "4831cc9c",
   "metadata": {},
   "outputs": [
    {
     "data": {
      "text/html": [
       "<div>\n",
       "<style scoped>\n",
       "    .dataframe tbody tr th:only-of-type {\n",
       "        vertical-align: middle;\n",
       "    }\n",
       "\n",
       "    .dataframe tbody tr th {\n",
       "        vertical-align: top;\n",
       "    }\n",
       "\n",
       "    .dataframe thead th {\n",
       "        text-align: right;\n",
       "    }\n",
       "</style>\n",
       "<table border=\"1\" class=\"dataframe\">\n",
       "  <thead>\n",
       "    <tr style=\"text-align: right;\">\n",
       "      <th></th>\n",
       "      <th>PatientId</th>\n",
       "      <th>AppointmentID</th>\n",
       "      <th>Gender</th>\n",
       "      <th>ScheduledDay</th>\n",
       "      <th>AppointmentDay</th>\n",
       "      <th>Age</th>\n",
       "      <th>Neighbourhood</th>\n",
       "      <th>Scholarship</th>\n",
       "      <th>Hipertension</th>\n",
       "      <th>Diabetes</th>\n",
       "      <th>Alcoholism</th>\n",
       "      <th>Handcap</th>\n",
       "      <th>SMS_received</th>\n",
       "      <th>No-show</th>\n",
       "      <th>ApointmentWeekday</th>\n",
       "      <th>Scheduled</th>\n",
       "    </tr>\n",
       "  </thead>\n",
       "  <tbody>\n",
       "    <tr>\n",
       "      <th>0</th>\n",
       "      <td>29872499824296</td>\n",
       "      <td>5642903</td>\n",
       "      <td>F</td>\n",
       "      <td>2016-04-29</td>\n",
       "      <td>2016-04-30</td>\n",
       "      <td>62</td>\n",
       "      <td>JARDIM DA PENHA</td>\n",
       "      <td>0</td>\n",
       "      <td>1</td>\n",
       "      <td>0</td>\n",
       "      <td>0</td>\n",
       "      <td>0</td>\n",
       "      <td>0</td>\n",
       "      <td>No</td>\n",
       "      <td>Friday</td>\n",
       "      <td>1</td>\n",
       "    </tr>\n",
       "    <tr>\n",
       "      <th>1</th>\n",
       "      <td>558997776694438</td>\n",
       "      <td>5642503</td>\n",
       "      <td>M</td>\n",
       "      <td>2016-04-29</td>\n",
       "      <td>2016-04-30</td>\n",
       "      <td>56</td>\n",
       "      <td>JARDIM DA PENHA</td>\n",
       "      <td>0</td>\n",
       "      <td>0</td>\n",
       "      <td>0</td>\n",
       "      <td>0</td>\n",
       "      <td>0</td>\n",
       "      <td>0</td>\n",
       "      <td>No</td>\n",
       "      <td>Friday</td>\n",
       "      <td>1</td>\n",
       "    </tr>\n",
       "    <tr>\n",
       "      <th>2</th>\n",
       "      <td>4262962299951</td>\n",
       "      <td>5642549</td>\n",
       "      <td>F</td>\n",
       "      <td>2016-04-29</td>\n",
       "      <td>2016-04-30</td>\n",
       "      <td>62</td>\n",
       "      <td>MATA DA PRAIA</td>\n",
       "      <td>0</td>\n",
       "      <td>0</td>\n",
       "      <td>0</td>\n",
       "      <td>0</td>\n",
       "      <td>0</td>\n",
       "      <td>0</td>\n",
       "      <td>No</td>\n",
       "      <td>Friday</td>\n",
       "      <td>1</td>\n",
       "    </tr>\n",
       "    <tr>\n",
       "      <th>3</th>\n",
       "      <td>867951213174</td>\n",
       "      <td>5642828</td>\n",
       "      <td>F</td>\n",
       "      <td>2016-04-29</td>\n",
       "      <td>2016-04-30</td>\n",
       "      <td>8</td>\n",
       "      <td>PONTAL DE CAMBURI</td>\n",
       "      <td>0</td>\n",
       "      <td>0</td>\n",
       "      <td>0</td>\n",
       "      <td>0</td>\n",
       "      <td>0</td>\n",
       "      <td>0</td>\n",
       "      <td>No</td>\n",
       "      <td>Friday</td>\n",
       "      <td>1</td>\n",
       "    </tr>\n",
       "    <tr>\n",
       "      <th>4</th>\n",
       "      <td>8841186448183</td>\n",
       "      <td>5642494</td>\n",
       "      <td>F</td>\n",
       "      <td>2016-04-29</td>\n",
       "      <td>2016-04-30</td>\n",
       "      <td>56</td>\n",
       "      <td>JARDIM DA PENHA</td>\n",
       "      <td>0</td>\n",
       "      <td>1</td>\n",
       "      <td>1</td>\n",
       "      <td>0</td>\n",
       "      <td>0</td>\n",
       "      <td>0</td>\n",
       "      <td>No</td>\n",
       "      <td>Friday</td>\n",
       "      <td>1</td>\n",
       "    </tr>\n",
       "    <tr>\n",
       "      <th>5</th>\n",
       "      <td>95985133231274</td>\n",
       "      <td>5626772</td>\n",
       "      <td>F</td>\n",
       "      <td>2016-04-27</td>\n",
       "      <td>2016-04-30</td>\n",
       "      <td>76</td>\n",
       "      <td>REPÚBLICA</td>\n",
       "      <td>0</td>\n",
       "      <td>1</td>\n",
       "      <td>0</td>\n",
       "      <td>0</td>\n",
       "      <td>0</td>\n",
       "      <td>0</td>\n",
       "      <td>No</td>\n",
       "      <td>Friday</td>\n",
       "      <td>3</td>\n",
       "    </tr>\n",
       "    <tr>\n",
       "      <th>6</th>\n",
       "      <td>733688164476661</td>\n",
       "      <td>5630279</td>\n",
       "      <td>F</td>\n",
       "      <td>2016-04-27</td>\n",
       "      <td>2016-04-30</td>\n",
       "      <td>23</td>\n",
       "      <td>GOIABEIRAS</td>\n",
       "      <td>0</td>\n",
       "      <td>0</td>\n",
       "      <td>0</td>\n",
       "      <td>0</td>\n",
       "      <td>0</td>\n",
       "      <td>0</td>\n",
       "      <td>Yes</td>\n",
       "      <td>Friday</td>\n",
       "      <td>3</td>\n",
       "    </tr>\n",
       "    <tr>\n",
       "      <th>7</th>\n",
       "      <td>3449833394123</td>\n",
       "      <td>5630575</td>\n",
       "      <td>F</td>\n",
       "      <td>2016-04-27</td>\n",
       "      <td>2016-04-30</td>\n",
       "      <td>39</td>\n",
       "      <td>GOIABEIRAS</td>\n",
       "      <td>0</td>\n",
       "      <td>0</td>\n",
       "      <td>0</td>\n",
       "      <td>0</td>\n",
       "      <td>0</td>\n",
       "      <td>0</td>\n",
       "      <td>Yes</td>\n",
       "      <td>Friday</td>\n",
       "      <td>3</td>\n",
       "    </tr>\n",
       "    <tr>\n",
       "      <th>8</th>\n",
       "      <td>56394729949972</td>\n",
       "      <td>5638447</td>\n",
       "      <td>F</td>\n",
       "      <td>2016-04-29</td>\n",
       "      <td>2016-04-30</td>\n",
       "      <td>21</td>\n",
       "      <td>ANDORINHAS</td>\n",
       "      <td>0</td>\n",
       "      <td>0</td>\n",
       "      <td>0</td>\n",
       "      <td>0</td>\n",
       "      <td>0</td>\n",
       "      <td>0</td>\n",
       "      <td>No</td>\n",
       "      <td>Friday</td>\n",
       "      <td>1</td>\n",
       "    </tr>\n",
       "    <tr>\n",
       "      <th>9</th>\n",
       "      <td>78124564369297</td>\n",
       "      <td>5629123</td>\n",
       "      <td>F</td>\n",
       "      <td>2016-04-27</td>\n",
       "      <td>2016-04-30</td>\n",
       "      <td>19</td>\n",
       "      <td>CONQUISTA</td>\n",
       "      <td>0</td>\n",
       "      <td>0</td>\n",
       "      <td>0</td>\n",
       "      <td>0</td>\n",
       "      <td>0</td>\n",
       "      <td>0</td>\n",
       "      <td>No</td>\n",
       "      <td>Friday</td>\n",
       "      <td>3</td>\n",
       "    </tr>\n",
       "    <tr>\n",
       "      <th>10</th>\n",
       "      <td>734536231958495</td>\n",
       "      <td>5630213</td>\n",
       "      <td>F</td>\n",
       "      <td>2016-04-27</td>\n",
       "      <td>2016-04-30</td>\n",
       "      <td>30</td>\n",
       "      <td>NOVA PALESTINA</td>\n",
       "      <td>0</td>\n",
       "      <td>0</td>\n",
       "      <td>0</td>\n",
       "      <td>0</td>\n",
       "      <td>0</td>\n",
       "      <td>0</td>\n",
       "      <td>No</td>\n",
       "      <td>Friday</td>\n",
       "      <td>3</td>\n",
       "    </tr>\n",
       "    <tr>\n",
       "      <th>11</th>\n",
       "      <td>7542951368435</td>\n",
       "      <td>5620163</td>\n",
       "      <td>M</td>\n",
       "      <td>2016-04-26</td>\n",
       "      <td>2016-04-30</td>\n",
       "      <td>29</td>\n",
       "      <td>NOVA PALESTINA</td>\n",
       "      <td>0</td>\n",
       "      <td>0</td>\n",
       "      <td>0</td>\n",
       "      <td>0</td>\n",
       "      <td>0</td>\n",
       "      <td>1</td>\n",
       "      <td>Yes</td>\n",
       "      <td>Friday</td>\n",
       "      <td>4</td>\n",
       "    </tr>\n",
       "    <tr>\n",
       "      <th>12</th>\n",
       "      <td>566654781423437</td>\n",
       "      <td>5634718</td>\n",
       "      <td>F</td>\n",
       "      <td>2016-04-28</td>\n",
       "      <td>2016-04-30</td>\n",
       "      <td>22</td>\n",
       "      <td>NOVA PALESTINA</td>\n",
       "      <td>1</td>\n",
       "      <td>0</td>\n",
       "      <td>0</td>\n",
       "      <td>0</td>\n",
       "      <td>0</td>\n",
       "      <td>0</td>\n",
       "      <td>No</td>\n",
       "      <td>Friday</td>\n",
       "      <td>2</td>\n",
       "    </tr>\n",
       "    <tr>\n",
       "      <th>13</th>\n",
       "      <td>911394617215919</td>\n",
       "      <td>5636249</td>\n",
       "      <td>M</td>\n",
       "      <td>2016-04-28</td>\n",
       "      <td>2016-04-30</td>\n",
       "      <td>28</td>\n",
       "      <td>NOVA PALESTINA</td>\n",
       "      <td>0</td>\n",
       "      <td>0</td>\n",
       "      <td>0</td>\n",
       "      <td>0</td>\n",
       "      <td>0</td>\n",
       "      <td>0</td>\n",
       "      <td>No</td>\n",
       "      <td>Friday</td>\n",
       "      <td>2</td>\n",
       "    </tr>\n",
       "    <tr>\n",
       "      <th>14</th>\n",
       "      <td>99884723334928</td>\n",
       "      <td>5633951</td>\n",
       "      <td>F</td>\n",
       "      <td>2016-04-28</td>\n",
       "      <td>2016-04-30</td>\n",
       "      <td>54</td>\n",
       "      <td>NOVA PALESTINA</td>\n",
       "      <td>0</td>\n",
       "      <td>0</td>\n",
       "      <td>0</td>\n",
       "      <td>0</td>\n",
       "      <td>0</td>\n",
       "      <td>0</td>\n",
       "      <td>No</td>\n",
       "      <td>Friday</td>\n",
       "      <td>2</td>\n",
       "    </tr>\n",
       "  </tbody>\n",
       "</table>\n",
       "</div>"
      ],
      "text/plain": [
       "          PatientId  AppointmentID Gender ScheduledDay AppointmentDay  Age  \\\n",
       "0    29872499824296        5642903      F   2016-04-29     2016-04-30   62   \n",
       "1   558997776694438        5642503      M   2016-04-29     2016-04-30   56   \n",
       "2     4262962299951        5642549      F   2016-04-29     2016-04-30   62   \n",
       "3      867951213174        5642828      F   2016-04-29     2016-04-30    8   \n",
       "4     8841186448183        5642494      F   2016-04-29     2016-04-30   56   \n",
       "5    95985133231274        5626772      F   2016-04-27     2016-04-30   76   \n",
       "6   733688164476661        5630279      F   2016-04-27     2016-04-30   23   \n",
       "7     3449833394123        5630575      F   2016-04-27     2016-04-30   39   \n",
       "8    56394729949972        5638447      F   2016-04-29     2016-04-30   21   \n",
       "9    78124564369297        5629123      F   2016-04-27     2016-04-30   19   \n",
       "10  734536231958495        5630213      F   2016-04-27     2016-04-30   30   \n",
       "11    7542951368435        5620163      M   2016-04-26     2016-04-30   29   \n",
       "12  566654781423437        5634718      F   2016-04-28     2016-04-30   22   \n",
       "13  911394617215919        5636249      M   2016-04-28     2016-04-30   28   \n",
       "14   99884723334928        5633951      F   2016-04-28     2016-04-30   54   \n",
       "\n",
       "        Neighbourhood  Scholarship  Hipertension  Diabetes  Alcoholism  \\\n",
       "0     JARDIM DA PENHA            0             1         0           0   \n",
       "1     JARDIM DA PENHA            0             0         0           0   \n",
       "2       MATA DA PRAIA            0             0         0           0   \n",
       "3   PONTAL DE CAMBURI            0             0         0           0   \n",
       "4     JARDIM DA PENHA            0             1         1           0   \n",
       "5           REPÚBLICA            0             1         0           0   \n",
       "6          GOIABEIRAS            0             0         0           0   \n",
       "7          GOIABEIRAS            0             0         0           0   \n",
       "8          ANDORINHAS            0             0         0           0   \n",
       "9           CONQUISTA            0             0         0           0   \n",
       "10     NOVA PALESTINA            0             0         0           0   \n",
       "11     NOVA PALESTINA            0             0         0           0   \n",
       "12     NOVA PALESTINA            1             0         0           0   \n",
       "13     NOVA PALESTINA            0             0         0           0   \n",
       "14     NOVA PALESTINA            0             0         0           0   \n",
       "\n",
       "    Handcap  SMS_received No-show ApointmentWeekday  Scheduled  \n",
       "0         0             0      No            Friday          1  \n",
       "1         0             0      No            Friday          1  \n",
       "2         0             0      No            Friday          1  \n",
       "3         0             0      No            Friday          1  \n",
       "4         0             0      No            Friday          1  \n",
       "5         0             0      No            Friday          3  \n",
       "6         0             0     Yes            Friday          3  \n",
       "7         0             0     Yes            Friday          3  \n",
       "8         0             0      No            Friday          1  \n",
       "9         0             0      No            Friday          3  \n",
       "10        0             0      No            Friday          3  \n",
       "11        0             1     Yes            Friday          4  \n",
       "12        0             0      No            Friday          2  \n",
       "13        0             0      No            Friday          2  \n",
       "14        0             0      No            Friday          2  "
      ]
     },
     "execution_count": 6,
     "metadata": {},
     "output_type": "execute_result"
    }
   ],
   "source": [
    "df.head(15)"
   ]
  },
  {
   "cell_type": "code",
   "execution_count": 7,
   "id": "3533d99f",
   "metadata": {},
   "outputs": [
    {
     "data": {
      "text/html": [
       "<div>\n",
       "<style scoped>\n",
       "    .dataframe tbody tr th:only-of-type {\n",
       "        vertical-align: middle;\n",
       "    }\n",
       "\n",
       "    .dataframe tbody tr th {\n",
       "        vertical-align: top;\n",
       "    }\n",
       "\n",
       "    .dataframe thead th {\n",
       "        text-align: right;\n",
       "    }\n",
       "</style>\n",
       "<table border=\"1\" class=\"dataframe\">\n",
       "  <thead>\n",
       "    <tr style=\"text-align: right;\">\n",
       "      <th></th>\n",
       "      <th>AppointmentID</th>\n",
       "      <th>Age</th>\n",
       "      <th>Scholarship</th>\n",
       "      <th>Hipertension</th>\n",
       "      <th>Diabetes</th>\n",
       "      <th>Alcoholism</th>\n",
       "      <th>Handcap</th>\n",
       "      <th>SMS_received</th>\n",
       "      <th>Scheduled</th>\n",
       "    </tr>\n",
       "  </thead>\n",
       "  <tbody>\n",
       "    <tr>\n",
       "      <th>count</th>\n",
       "      <td>1.105270e+05</td>\n",
       "      <td>110527.000000</td>\n",
       "      <td>110527.000000</td>\n",
       "      <td>110527.000000</td>\n",
       "      <td>110527.000000</td>\n",
       "      <td>110527.000000</td>\n",
       "      <td>110527.000000</td>\n",
       "      <td>110527.000000</td>\n",
       "      <td>110527.000000</td>\n",
       "    </tr>\n",
       "    <tr>\n",
       "      <th>mean</th>\n",
       "      <td>5.675305e+06</td>\n",
       "      <td>37.088874</td>\n",
       "      <td>0.098266</td>\n",
       "      <td>0.197246</td>\n",
       "      <td>0.071865</td>\n",
       "      <td>0.030400</td>\n",
       "      <td>0.022248</td>\n",
       "      <td>0.321026</td>\n",
       "      <td>11.183702</td>\n",
       "    </tr>\n",
       "    <tr>\n",
       "      <th>std</th>\n",
       "      <td>7.129575e+04</td>\n",
       "      <td>23.110205</td>\n",
       "      <td>0.297675</td>\n",
       "      <td>0.397921</td>\n",
       "      <td>0.258265</td>\n",
       "      <td>0.171686</td>\n",
       "      <td>0.161543</td>\n",
       "      <td>0.466873</td>\n",
       "      <td>15.254996</td>\n",
       "    </tr>\n",
       "    <tr>\n",
       "      <th>min</th>\n",
       "      <td>5.030230e+06</td>\n",
       "      <td>-1.000000</td>\n",
       "      <td>0.000000</td>\n",
       "      <td>0.000000</td>\n",
       "      <td>0.000000</td>\n",
       "      <td>0.000000</td>\n",
       "      <td>0.000000</td>\n",
       "      <td>0.000000</td>\n",
       "      <td>-5.000000</td>\n",
       "    </tr>\n",
       "    <tr>\n",
       "      <th>25%</th>\n",
       "      <td>5.640286e+06</td>\n",
       "      <td>18.000000</td>\n",
       "      <td>0.000000</td>\n",
       "      <td>0.000000</td>\n",
       "      <td>0.000000</td>\n",
       "      <td>0.000000</td>\n",
       "      <td>0.000000</td>\n",
       "      <td>0.000000</td>\n",
       "      <td>1.000000</td>\n",
       "    </tr>\n",
       "    <tr>\n",
       "      <th>50%</th>\n",
       "      <td>5.680573e+06</td>\n",
       "      <td>37.000000</td>\n",
       "      <td>0.000000</td>\n",
       "      <td>0.000000</td>\n",
       "      <td>0.000000</td>\n",
       "      <td>0.000000</td>\n",
       "      <td>0.000000</td>\n",
       "      <td>0.000000</td>\n",
       "      <td>5.000000</td>\n",
       "    </tr>\n",
       "    <tr>\n",
       "      <th>75%</th>\n",
       "      <td>5.725524e+06</td>\n",
       "      <td>55.000000</td>\n",
       "      <td>0.000000</td>\n",
       "      <td>0.000000</td>\n",
       "      <td>0.000000</td>\n",
       "      <td>0.000000</td>\n",
       "      <td>0.000000</td>\n",
       "      <td>1.000000</td>\n",
       "      <td>16.000000</td>\n",
       "    </tr>\n",
       "    <tr>\n",
       "      <th>max</th>\n",
       "      <td>5.790484e+06</td>\n",
       "      <td>115.000000</td>\n",
       "      <td>1.000000</td>\n",
       "      <td>1.000000</td>\n",
       "      <td>1.000000</td>\n",
       "      <td>1.000000</td>\n",
       "      <td>4.000000</td>\n",
       "      <td>1.000000</td>\n",
       "      <td>180.000000</td>\n",
       "    </tr>\n",
       "  </tbody>\n",
       "</table>\n",
       "</div>"
      ],
      "text/plain": [
       "       AppointmentID            Age    Scholarship   Hipertension  \\\n",
       "count   1.105270e+05  110527.000000  110527.000000  110527.000000   \n",
       "mean    5.675305e+06      37.088874       0.098266       0.197246   \n",
       "std     7.129575e+04      23.110205       0.297675       0.397921   \n",
       "min     5.030230e+06      -1.000000       0.000000       0.000000   \n",
       "25%     5.640286e+06      18.000000       0.000000       0.000000   \n",
       "50%     5.680573e+06      37.000000       0.000000       0.000000   \n",
       "75%     5.725524e+06      55.000000       0.000000       0.000000   \n",
       "max     5.790484e+06     115.000000       1.000000       1.000000   \n",
       "\n",
       "            Diabetes     Alcoholism        Handcap   SMS_received  \\\n",
       "count  110527.000000  110527.000000  110527.000000  110527.000000   \n",
       "mean        0.071865       0.030400       0.022248       0.321026   \n",
       "std         0.258265       0.171686       0.161543       0.466873   \n",
       "min         0.000000       0.000000       0.000000       0.000000   \n",
       "25%         0.000000       0.000000       0.000000       0.000000   \n",
       "50%         0.000000       0.000000       0.000000       0.000000   \n",
       "75%         0.000000       0.000000       0.000000       1.000000   \n",
       "max         1.000000       1.000000       4.000000       1.000000   \n",
       "\n",
       "           Scheduled  \n",
       "count  110527.000000  \n",
       "mean       11.183702  \n",
       "std        15.254996  \n",
       "min        -5.000000  \n",
       "25%         1.000000  \n",
       "50%         5.000000  \n",
       "75%        16.000000  \n",
       "max       180.000000  "
      ]
     },
     "execution_count": 7,
     "metadata": {},
     "output_type": "execute_result"
    }
   ],
   "source": [
    "df.describe()\n",
    "\n",
    "#to be checked: age -1 and max 115, scheduled less than zero, handcap max =4 when it was supposed to be boolean value"
   ]
  },
  {
   "cell_type": "markdown",
   "id": "8545b42b",
   "metadata": {},
   "source": [
    ">to be checked after this step: \n",
    "**Age** of -1 and 115;\n",
    "**Scheduled** column less than 0;\n",
    "**handcap** max = 4, when it was supposed to be boolean value?"
   ]
  },
  {
   "cell_type": "code",
   "execution_count": 8,
   "id": "a3b44dff",
   "metadata": {},
   "outputs": [
    {
     "data": {
      "text/html": [
       "<div>\n",
       "<style scoped>\n",
       "    .dataframe tbody tr th:only-of-type {\n",
       "        vertical-align: middle;\n",
       "    }\n",
       "\n",
       "    .dataframe tbody tr th {\n",
       "        vertical-align: top;\n",
       "    }\n",
       "\n",
       "    .dataframe thead th {\n",
       "        text-align: right;\n",
       "    }\n",
       "</style>\n",
       "<table border=\"1\" class=\"dataframe\">\n",
       "  <thead>\n",
       "    <tr style=\"text-align: right;\">\n",
       "      <th></th>\n",
       "      <th>PatientId</th>\n",
       "      <th>AppointmentID</th>\n",
       "      <th>Gender</th>\n",
       "      <th>ScheduledDay</th>\n",
       "      <th>AppointmentDay</th>\n",
       "      <th>Age</th>\n",
       "      <th>Neighbourhood</th>\n",
       "      <th>Scholarship</th>\n",
       "      <th>Hipertension</th>\n",
       "      <th>Diabetes</th>\n",
       "      <th>Alcoholism</th>\n",
       "      <th>Handcap</th>\n",
       "      <th>SMS_received</th>\n",
       "      <th>No-show</th>\n",
       "      <th>ApointmentWeekday</th>\n",
       "      <th>Scheduled</th>\n",
       "    </tr>\n",
       "  </thead>\n",
       "  <tbody>\n",
       "    <tr>\n",
       "      <th>99832</th>\n",
       "      <td>465943158731293</td>\n",
       "      <td>5775010</td>\n",
       "      <td>F</td>\n",
       "      <td>2016-06-06</td>\n",
       "      <td>2016-06-07</td>\n",
       "      <td>-1</td>\n",
       "      <td>ROMÃO</td>\n",
       "      <td>0</td>\n",
       "      <td>0</td>\n",
       "      <td>0</td>\n",
       "      <td>0</td>\n",
       "      <td>0</td>\n",
       "      <td>0</td>\n",
       "      <td>No</td>\n",
       "      <td>Monday</td>\n",
       "      <td>1</td>\n",
       "    </tr>\n",
       "  </tbody>\n",
       "</table>\n",
       "</div>"
      ],
      "text/plain": [
       "             PatientId  AppointmentID Gender ScheduledDay AppointmentDay  Age  \\\n",
       "99832  465943158731293        5775010      F   2016-06-06     2016-06-07   -1   \n",
       "\n",
       "      Neighbourhood  Scholarship  Hipertension  Diabetes  Alcoholism  Handcap  \\\n",
       "99832         ROMÃO            0             0         0           0        0   \n",
       "\n",
       "       SMS_received No-show ApointmentWeekday  Scheduled  \n",
       "99832             0      No            Monday          1  "
      ]
     },
     "execution_count": 8,
     "metadata": {},
     "output_type": "execute_result"
    }
   ],
   "source": [
    "#check for outlier Age = -1\n",
    "\n",
    "df.loc[df['Age'] == -1]"
   ]
  },
  {
   "cell_type": "code",
   "execution_count": 9,
   "id": "fe83476a",
   "metadata": {},
   "outputs": [
    {
     "data": {
      "text/html": [
       "<div>\n",
       "<style scoped>\n",
       "    .dataframe tbody tr th:only-of-type {\n",
       "        vertical-align: middle;\n",
       "    }\n",
       "\n",
       "    .dataframe tbody tr th {\n",
       "        vertical-align: top;\n",
       "    }\n",
       "\n",
       "    .dataframe thead th {\n",
       "        text-align: right;\n",
       "    }\n",
       "</style>\n",
       "<table border=\"1\" class=\"dataframe\">\n",
       "  <thead>\n",
       "    <tr style=\"text-align: right;\">\n",
       "      <th></th>\n",
       "      <th>PatientId</th>\n",
       "      <th>AppointmentID</th>\n",
       "      <th>Gender</th>\n",
       "      <th>ScheduledDay</th>\n",
       "      <th>AppointmentDay</th>\n",
       "      <th>Age</th>\n",
       "      <th>Neighbourhood</th>\n",
       "      <th>Scholarship</th>\n",
       "      <th>Hipertension</th>\n",
       "      <th>Diabetes</th>\n",
       "      <th>Alcoholism</th>\n",
       "      <th>Handcap</th>\n",
       "      <th>SMS_received</th>\n",
       "      <th>No-show</th>\n",
       "      <th>ApointmentWeekday</th>\n",
       "      <th>Scheduled</th>\n",
       "    </tr>\n",
       "  </thead>\n",
       "  <tbody>\n",
       "    <tr>\n",
       "      <th>58014</th>\n",
       "      <td>976294799775439</td>\n",
       "      <td>5651757</td>\n",
       "      <td>F</td>\n",
       "      <td>2016-05-03</td>\n",
       "      <td>2016-05-04</td>\n",
       "      <td>102</td>\n",
       "      <td>CONQUISTA</td>\n",
       "      <td>0</td>\n",
       "      <td>0</td>\n",
       "      <td>0</td>\n",
       "      <td>0</td>\n",
       "      <td>0</td>\n",
       "      <td>0</td>\n",
       "      <td>No</td>\n",
       "      <td>Tuesday</td>\n",
       "      <td>1</td>\n",
       "    </tr>\n",
       "    <tr>\n",
       "      <th>63912</th>\n",
       "      <td>31963211613981</td>\n",
       "      <td>5700278</td>\n",
       "      <td>F</td>\n",
       "      <td>2016-05-16</td>\n",
       "      <td>2016-05-20</td>\n",
       "      <td>115</td>\n",
       "      <td>ANDORINHAS</td>\n",
       "      <td>0</td>\n",
       "      <td>0</td>\n",
       "      <td>0</td>\n",
       "      <td>0</td>\n",
       "      <td>1</td>\n",
       "      <td>0</td>\n",
       "      <td>Yes</td>\n",
       "      <td>Thursday</td>\n",
       "      <td>4</td>\n",
       "    </tr>\n",
       "    <tr>\n",
       "      <th>63915</th>\n",
       "      <td>31963211613981</td>\n",
       "      <td>5700279</td>\n",
       "      <td>F</td>\n",
       "      <td>2016-05-16</td>\n",
       "      <td>2016-05-20</td>\n",
       "      <td>115</td>\n",
       "      <td>ANDORINHAS</td>\n",
       "      <td>0</td>\n",
       "      <td>0</td>\n",
       "      <td>0</td>\n",
       "      <td>0</td>\n",
       "      <td>1</td>\n",
       "      <td>0</td>\n",
       "      <td>Yes</td>\n",
       "      <td>Thursday</td>\n",
       "      <td>4</td>\n",
       "    </tr>\n",
       "    <tr>\n",
       "      <th>68127</th>\n",
       "      <td>31963211613981</td>\n",
       "      <td>5562812</td>\n",
       "      <td>F</td>\n",
       "      <td>2016-04-08</td>\n",
       "      <td>2016-05-17</td>\n",
       "      <td>115</td>\n",
       "      <td>ANDORINHAS</td>\n",
       "      <td>0</td>\n",
       "      <td>0</td>\n",
       "      <td>0</td>\n",
       "      <td>0</td>\n",
       "      <td>1</td>\n",
       "      <td>0</td>\n",
       "      <td>Yes</td>\n",
       "      <td>Monday</td>\n",
       "      <td>39</td>\n",
       "    </tr>\n",
       "    <tr>\n",
       "      <th>76284</th>\n",
       "      <td>31963211613981</td>\n",
       "      <td>5744037</td>\n",
       "      <td>F</td>\n",
       "      <td>2016-05-30</td>\n",
       "      <td>2016-05-31</td>\n",
       "      <td>115</td>\n",
       "      <td>ANDORINHAS</td>\n",
       "      <td>0</td>\n",
       "      <td>0</td>\n",
       "      <td>0</td>\n",
       "      <td>0</td>\n",
       "      <td>1</td>\n",
       "      <td>0</td>\n",
       "      <td>No</td>\n",
       "      <td>Monday</td>\n",
       "      <td>1</td>\n",
       "    </tr>\n",
       "    <tr>\n",
       "      <th>90372</th>\n",
       "      <td>234283596548</td>\n",
       "      <td>5751563</td>\n",
       "      <td>F</td>\n",
       "      <td>2016-05-31</td>\n",
       "      <td>2016-06-03</td>\n",
       "      <td>102</td>\n",
       "      <td>MARIA ORTIZ</td>\n",
       "      <td>0</td>\n",
       "      <td>0</td>\n",
       "      <td>0</td>\n",
       "      <td>0</td>\n",
       "      <td>0</td>\n",
       "      <td>0</td>\n",
       "      <td>No</td>\n",
       "      <td>Thursday</td>\n",
       "      <td>3</td>\n",
       "    </tr>\n",
       "    <tr>\n",
       "      <th>97666</th>\n",
       "      <td>748234579244724</td>\n",
       "      <td>5717451</td>\n",
       "      <td>F</td>\n",
       "      <td>2016-05-19</td>\n",
       "      <td>2016-06-04</td>\n",
       "      <td>115</td>\n",
       "      <td>SÃO JOSÉ</td>\n",
       "      <td>0</td>\n",
       "      <td>1</td>\n",
       "      <td>0</td>\n",
       "      <td>0</td>\n",
       "      <td>0</td>\n",
       "      <td>1</td>\n",
       "      <td>No</td>\n",
       "      <td>Friday</td>\n",
       "      <td>16</td>\n",
       "    </tr>\n",
       "  </tbody>\n",
       "</table>\n",
       "</div>"
      ],
      "text/plain": [
       "             PatientId  AppointmentID Gender ScheduledDay AppointmentDay  Age  \\\n",
       "58014  976294799775439        5651757      F   2016-05-03     2016-05-04  102   \n",
       "63912   31963211613981        5700278      F   2016-05-16     2016-05-20  115   \n",
       "63915   31963211613981        5700279      F   2016-05-16     2016-05-20  115   \n",
       "68127   31963211613981        5562812      F   2016-04-08     2016-05-17  115   \n",
       "76284   31963211613981        5744037      F   2016-05-30     2016-05-31  115   \n",
       "90372     234283596548        5751563      F   2016-05-31     2016-06-03  102   \n",
       "97666  748234579244724        5717451      F   2016-05-19     2016-06-04  115   \n",
       "\n",
       "      Neighbourhood  Scholarship  Hipertension  Diabetes  Alcoholism  Handcap  \\\n",
       "58014     CONQUISTA            0             0         0           0        0   \n",
       "63912    ANDORINHAS            0             0         0           0        1   \n",
       "63915    ANDORINHAS            0             0         0           0        1   \n",
       "68127    ANDORINHAS            0             0         0           0        1   \n",
       "76284    ANDORINHAS            0             0         0           0        1   \n",
       "90372   MARIA ORTIZ            0             0         0           0        0   \n",
       "97666      SÃO JOSÉ            0             1         0           0        0   \n",
       "\n",
       "       SMS_received No-show ApointmentWeekday  Scheduled  \n",
       "58014             0      No           Tuesday          1  \n",
       "63912             0     Yes          Thursday          4  \n",
       "63915             0     Yes          Thursday          4  \n",
       "68127             0     Yes            Monday         39  \n",
       "76284             0      No            Monday          1  \n",
       "90372             0      No          Thursday          3  \n",
       "97666             1      No            Friday         16  "
      ]
     },
     "execution_count": 9,
     "metadata": {},
     "output_type": "execute_result"
    }
   ],
   "source": [
    "#check for potential outlier where Age > 100\n",
    "\n",
    "df.loc[df['Age'] > 100]\n"
   ]
  },
  {
   "cell_type": "markdown",
   "id": "561c6728",
   "metadata": {},
   "source": [
    "Although the age of 115 seems unlikely, looks like these patients are all female (which tend to live longer), and the oldest people were living even up to 122 years, so I'm not going to delete these entries"
   ]
  },
  {
   "cell_type": "code",
   "execution_count": 10,
   "id": "8646e6df",
   "metadata": {},
   "outputs": [
    {
     "data": {
      "text/html": [
       "<div>\n",
       "<style scoped>\n",
       "    .dataframe tbody tr th:only-of-type {\n",
       "        vertical-align: middle;\n",
       "    }\n",
       "\n",
       "    .dataframe tbody tr th {\n",
       "        vertical-align: top;\n",
       "    }\n",
       "\n",
       "    .dataframe thead th {\n",
       "        text-align: right;\n",
       "    }\n",
       "</style>\n",
       "<table border=\"1\" class=\"dataframe\">\n",
       "  <thead>\n",
       "    <tr style=\"text-align: right;\">\n",
       "      <th></th>\n",
       "      <th>PatientId</th>\n",
       "      <th>AppointmentID</th>\n",
       "      <th>Gender</th>\n",
       "      <th>ScheduledDay</th>\n",
       "      <th>AppointmentDay</th>\n",
       "      <th>Age</th>\n",
       "      <th>Neighbourhood</th>\n",
       "      <th>Scholarship</th>\n",
       "      <th>Hipertension</th>\n",
       "      <th>Diabetes</th>\n",
       "      <th>Alcoholism</th>\n",
       "      <th>Handcap</th>\n",
       "      <th>SMS_received</th>\n",
       "      <th>No-show</th>\n",
       "      <th>ApointmentWeekday</th>\n",
       "      <th>Scheduled</th>\n",
       "    </tr>\n",
       "  </thead>\n",
       "  <tbody>\n",
       "    <tr>\n",
       "      <th>71533</th>\n",
       "      <td>998231581612122</td>\n",
       "      <td>5686628</td>\n",
       "      <td>F</td>\n",
       "      <td>2016-05-11</td>\n",
       "      <td>2016-05-06</td>\n",
       "      <td>81</td>\n",
       "      <td>SANTO ANTÔNIO</td>\n",
       "      <td>0</td>\n",
       "      <td>0</td>\n",
       "      <td>0</td>\n",
       "      <td>0</td>\n",
       "      <td>0</td>\n",
       "      <td>0</td>\n",
       "      <td>Yes</td>\n",
       "      <td>Thursday</td>\n",
       "      <td>-5</td>\n",
       "    </tr>\n",
       "  </tbody>\n",
       "</table>\n",
       "</div>"
      ],
      "text/plain": [
       "             PatientId  AppointmentID Gender ScheduledDay AppointmentDay  Age  \\\n",
       "71533  998231581612122        5686628      F   2016-05-11     2016-05-06   81   \n",
       "\n",
       "       Neighbourhood  Scholarship  Hipertension  Diabetes  Alcoholism  \\\n",
       "71533  SANTO ANTÔNIO            0             0         0           0   \n",
       "\n",
       "       Handcap  SMS_received No-show ApointmentWeekday  Scheduled  \n",
       "71533        0             0     Yes          Thursday         -5  "
      ]
     },
     "execution_count": 10,
     "metadata": {},
     "output_type": "execute_result"
    }
   ],
   "source": [
    "df.loc[df['Scheduled'] < 0]"
   ]
  },
  {
   "cell_type": "markdown",
   "id": "c9d17dd7",
   "metadata": {},
   "source": [
    "Looks like incorrect entry, so I'll filter this out"
   ]
  },
  {
   "cell_type": "code",
   "execution_count": 11,
   "id": "92acf47b",
   "metadata": {},
   "outputs": [
    {
     "data": {
      "text/plain": [
       "0    108286\n",
       "1      2042\n",
       "2       183\n",
       "3        13\n",
       "4         3\n",
       "Name: Handcap, dtype: int64"
      ]
     },
     "execution_count": 11,
     "metadata": {},
     "output_type": "execute_result"
    }
   ],
   "source": [
    "df['Handcap'].value_counts()"
   ]
  },
  {
   "cell_type": "markdown",
   "id": "a69f348d",
   "metadata": {},
   "source": [
    "This caught my attention as it was supposed to be a boolean value. Nevertheless as checked on kaggle the creator says it's a total value of handicap that a patient has - as higher number may mean more problems with actually getting to facility, I have decided not to change values in the column"
   ]
  },
  {
   "cell_type": "code",
   "execution_count": 12,
   "id": "a4872527",
   "metadata": {},
   "outputs": [],
   "source": [
    "#filtering out outliers/incorrect entries\n",
    "\n",
    "df = df.query('Age>-1 and Scheduled>=0')"
   ]
  },
  {
   "cell_type": "code",
   "execution_count": 13,
   "id": "1f7f7af5",
   "metadata": {
    "scrolled": true
   },
   "outputs": [
    {
     "data": {
      "image/png": "[encoded data removed]",
      "text/plain": [
       "<Figure size 800x800 with 9 Axes>"
      ]
     },
     "metadata": {},
     "output_type": "display_data"
    }
   ],
   "source": [
    "df.hist(figsize= (8,8));"
   ]
  },
  {
   "cell_type": "markdown",
   "id": "9951db10",
   "metadata": {},
   "source": [
    ">Quick check of distribution of variables:\n",
    "\n",
    "\n",
    ">out of conditions included in dataset, hipertension seems to be most common\n",
    "\n",
    "\n",
    ">We have around 10k patients that are part of social programme\n",
    "\n",
    "\n",
    ">Around 50% of patients are receiving messages with reminders\n",
    "\n",
    "\n",
    ">most of patients are scheduling their appointments up to 50 days in advance"
   ]
  },
  {
   "cell_type": "code",
   "execution_count": 14,
   "id": "6700d952",
   "metadata": {},
   "outputs": [],
   "source": [
    "#creating age groups\n",
    "bins= [0,2,4,13,18,30,40,50,60,115]\n",
    "labels = ['Infant','Toddler','Kid','Teen','Young Adult',\"30+\",\"40+\",\"50+\",\"60+\"]\n",
    "df['AgeGroup'] = pd.cut(df['Age'], bins=bins, labels=labels, right=False)"
   ]
  },
  {
   "cell_type": "code",
   "execution_count": 15,
   "id": "e698a0ad",
   "metadata": {},
   "outputs": [],
   "source": [
    "#creating buckets for how much in advance was the appointment scheduled\n",
    "bins= [0,2,7,14,28,180]\n",
    "labels = ['the same or next day','<1 week','<2 weeks','<1 month','>1 month']\n",
    "df['ScheduledGroup'] = pd.cut(df['Scheduled'], bins=bins, labels=labels, right=False)"
   ]
  },
  {
   "cell_type": "code",
   "execution_count": 16,
   "id": "50a42a29",
   "metadata": {},
   "outputs": [
    {
     "name": "stdout",
     "output_type": "stream",
     "text": [
      "          PatientId  AppointmentID Gender ScheduledDay AppointmentDay  Age  \\\n",
      "0    29872499824296        5642903      F   2016-04-29     2016-04-30   62   \n",
      "1   558997776694438        5642503      M   2016-04-29     2016-04-30   56   \n",
      "2     4262962299951        5642549      F   2016-04-29     2016-04-30   62   \n",
      "3      867951213174        5642828      F   2016-04-29     2016-04-30    8   \n",
      "4     8841186448183        5642494      F   2016-04-29     2016-04-30   56   \n",
      "5    95985133231274        5626772      F   2016-04-27     2016-04-30   76   \n",
      "6   733688164476661        5630279      F   2016-04-27     2016-04-30   23   \n",
      "7     3449833394123        5630575      F   2016-04-27     2016-04-30   39   \n",
      "8    56394729949972        5638447      F   2016-04-29     2016-04-30   21   \n",
      "9    78124564369297        5629123      F   2016-04-27     2016-04-30   19   \n",
      "10  734536231958495        5630213      F   2016-04-27     2016-04-30   30   \n",
      "11    7542951368435        5620163      M   2016-04-26     2016-04-30   29   \n",
      "12  566654781423437        5634718      F   2016-04-28     2016-04-30   22   \n",
      "13  911394617215919        5636249      M   2016-04-28     2016-04-30   28   \n",
      "14   99884723334928        5633951      F   2016-04-28     2016-04-30   54   \n",
      "\n",
      "        Neighbourhood  Scholarship  Hipertension  Diabetes  Alcoholism  \\\n",
      "0     JARDIM DA PENHA            0             1         0           0   \n",
      "1     JARDIM DA PENHA            0             0         0           0   \n",
      "2       MATA DA PRAIA            0             0         0           0   \n",
      "3   PONTAL DE CAMBURI            0             0         0           0   \n",
      "4     JARDIM DA PENHA            0             1         1           0   \n",
      "5           REPÚBLICA            0             1         0           0   \n",
      "6          GOIABEIRAS            0             0         0           0   \n",
      "7          GOIABEIRAS            0             0         0           0   \n",
      "8          ANDORINHAS            0             0         0           0   \n",
      "9           CONQUISTA            0             0         0           0   \n",
      "10     NOVA PALESTINA            0             0         0           0   \n",
      "11     NOVA PALESTINA            0             0         0           0   \n",
      "12     NOVA PALESTINA            1             0         0           0   \n",
      "13     NOVA PALESTINA            0             0         0           0   \n",
      "14     NOVA PALESTINA            0             0         0           0   \n",
      "\n",
      "    Handcap  SMS_received No-show ApointmentWeekday  Scheduled     AgeGroup  \\\n",
      "0         0             0      No            Friday          1          60+   \n",
      "1         0             0      No            Friday          1          50+   \n",
      "2         0             0      No            Friday          1          60+   \n",
      "3         0             0      No            Friday          1          Kid   \n",
      "4         0             0      No            Friday          1          50+   \n",
      "5         0             0      No            Friday          3          60+   \n",
      "6         0             0     Yes            Friday          3  Young Adult   \n",
      "7         0             0     Yes            Friday          3          30+   \n",
      "8         0             0      No            Friday          1  Young Adult   \n",
      "9         0             0      No            Friday          3  Young Adult   \n",
      "10        0             0      No            Friday          3          30+   \n",
      "11        0             1     Yes            Friday          4  Young Adult   \n",
      "12        0             0      No            Friday          2  Young Adult   \n",
      "13        0             0      No            Friday          2  Young Adult   \n",
      "14        0             0      No            Friday          2          50+   \n",
      "\n",
      "          ScheduledGroup  \n",
      "0   the same or next day  \n",
      "1   the same or next day  \n",
      "2   the same or next day  \n",
      "3   the same or next day  \n",
      "4   the same or next day  \n",
      "5                <1 week  \n",
      "6                <1 week  \n",
      "7                <1 week  \n",
      "8   the same or next day  \n",
      "9                <1 week  \n",
      "10               <1 week  \n",
      "11               <1 week  \n",
      "12               <1 week  \n",
      "13               <1 week  \n",
      "14               <1 week  \n"
     ]
    }
   ],
   "source": [
    "print(df.head(15))"
   ]
  },
  {
   "cell_type": "code",
   "execution_count": 17,
   "id": "de319338",
   "metadata": {},
   "outputs": [],
   "source": [
    "#renaming columns and changing everything to lowercase\n",
    "df.columns = [col.lower() for col in df.columns]"
   ]
  },
  {
   "cell_type": "code",
   "execution_count": 18,
   "id": "aec31a82",
   "metadata": {},
   "outputs": [],
   "source": [
    "#renaming no-show column\n",
    "df=df.rename(columns = {'no-show' : 'made-it'})\n",
    "\n",
    "#and mapping it differently, as original way was a bit confusing to me\n",
    "df['made-it'] = df['made-it'].map({'Yes': 0, 'No': 1})\n"
   ]
  },
  {
   "cell_type": "code",
   "execution_count": 19,
   "id": "b7958e80",
   "metadata": {},
   "outputs": [
    {
     "name": "stdout",
     "output_type": "stream",
     "text": [
      "Index(['patientid', 'appointmentid', 'gender', 'scheduledday',\n",
      "       'appointmentday', 'age', 'neighbourhood', 'scholarship', 'hipertension',\n",
      "       'diabetes', 'alcoholism', 'handcap', 'sms_received', 'made-it',\n",
      "       'apointmentweekday', 'scheduled', 'agegroup', 'scheduledgroup'],\n",
      "      dtype='object')\n"
     ]
    }
   ],
   "source": [
    "print(df.columns)"
   ]
  },
  {
   "cell_type": "markdown",
   "id": "bb48a278",
   "metadata": {},
   "source": [
    "## Exploratory Data Analysis"
   ]
  },
  {
   "cell_type": "markdown",
   "id": "58f4bd61",
   "metadata": {},
   "source": [
    "First step is to calculate overall proportion of patients that make it to the appointment, and compare whether any variable has lower proportion of customers that showed up for their appointment"
   ]
  },
  {
   "cell_type": "code",
   "execution_count": 20,
   "id": "69f08c1b",
   "metadata": {},
   "outputs": [
    {
     "data": {
      "text/plain": [
       "1    0.798073\n",
       "0    0.201927\n",
       "Name: made-it, dtype: float64"
      ]
     },
     "execution_count": 20,
     "metadata": {},
     "output_type": "execute_result"
    }
   ],
   "source": [
    "#checking what overall proportion of patients make it to appointment\n",
    "df['made-it'].value_counts(normalize=True)"
   ]
  },
  {
   "cell_type": "markdown",
   "id": "81b5b016",
   "metadata": {},
   "source": [
    "We see that according to our data, 79.8% of patients make it to the appointment"
   ]
  },
  {
   "cell_type": "code",
   "execution_count": 21,
   "id": "12c93704",
   "metadata": {},
   "outputs": [],
   "source": [
    "#defining function that will be used for plotting most of graphs:\n",
    "\n",
    "def createPlot (df, xVar, yVar, figsize=[14,6], orient=\"v\", order=None):\n",
    "\n",
    "    '''\n",
    "    function to create barplots for proportions of patients that made it to the appointment based on chosen variable\n",
    "    '''\n",
    "\n",
    "    #set plot dimenstion\n",
    "    plt.figure(figsize=figsize)\n",
    "\n",
    "    #create plot\n",
    "    sns.barplot(data=df, x = xVar, y = yVar, orient=orient)\n",
    "\n",
    "    #add plot title:\n",
    "    plt.title (f'Proportion {yVar} by {xVar}'.title(), fontsize = 12, weight=\"bold\")\n",
    "    #add x label\n",
    "    plt.xlabel(xVar.title(), fontsize = 10, weight=\"bold\")\n",
    "    #add y label\n",
    "    plt.ylabel(f'Proportion {yVar}'.title(), fontsize = 10, weight=\"bold\")"
   ]
  },
  {
   "cell_type": "code",
   "execution_count": 22,
   "id": "2ad2e2fa",
   "metadata": {},
   "outputs": [],
   "source": [
    "#defining function that will be used to create pivot table\n",
    "\n",
    "def calculateProportions(df, indVar, valVar):\n",
    "    return pd.pivot_table(data = df, index=indVar, values = valVar)"
   ]
  },
  {
   "cell_type": "code",
   "execution_count": 23,
   "id": "49e90991",
   "metadata": {},
   "outputs": [
    {
     "data": {
      "text/html": [
       "<div>\n",
       "<style scoped>\n",
       "    .dataframe tbody tr th:only-of-type {\n",
       "        vertical-align: middle;\n",
       "    }\n",
       "\n",
       "    .dataframe tbody tr th {\n",
       "        vertical-align: top;\n",
       "    }\n",
       "\n",
       "    .dataframe thead th {\n",
       "        text-align: right;\n",
       "    }\n",
       "</style>\n",
       "<table border=\"1\" class=\"dataframe\">\n",
       "  <thead>\n",
       "    <tr style=\"text-align: right;\">\n",
       "      <th></th>\n",
       "      <th>made-it</th>\n",
       "    </tr>\n",
       "    <tr>\n",
       "      <th>gender</th>\n",
       "      <th></th>\n",
       "    </tr>\n",
       "  </thead>\n",
       "  <tbody>\n",
       "    <tr>\n",
       "      <th>F</th>\n",
       "      <td>0.796862</td>\n",
       "    </tr>\n",
       "    <tr>\n",
       "      <th>M</th>\n",
       "      <td>0.800321</td>\n",
       "    </tr>\n",
       "  </tbody>\n",
       "</table>\n",
       "</div>"
      ],
      "text/plain": [
       "         made-it\n",
       "gender          \n",
       "F       0.796862\n",
       "M       0.800321"
      ]
     },
     "execution_count": 23,
     "metadata": {},
     "output_type": "execute_result"
    }
   ],
   "source": [
    "#calculate proportion of patients that made it to appointment based on gender\n",
    "\n",
    "calculateProportions(df, 'gender', 'made-it')"
   ]
  },
  {
   "cell_type": "code",
   "execution_count": 24,
   "id": "fa95d033",
   "metadata": {},
   "outputs": [
    {
     "data": {
      "image/png": "[encoded data removed]",
      "text/plain": [
       "<Figure size 1400x600 with 1 Axes>"
      ]
     },
     "metadata": {},
     "output_type": "display_data"
    }
   ],
   "source": [
    "#graph results\n",
    "createPlot(df, 'gender', 'made-it')"
   ]
  },
  {
   "cell_type": "markdown",
   "id": "f0002247",
   "metadata": {},
   "source": [
    "Gender does not seem to have special impact on whether patient shows up or not, since 79.6% of female and 80% of men make it to their appointments"
   ]
  },
  {
   "cell_type": "code",
   "execution_count": 25,
   "id": "1db30af5",
   "metadata": {},
   "outputs": [
    {
     "data": {
      "text/html": [
       "<div>\n",
       "<style scoped>\n",
       "    .dataframe tbody tr th:only-of-type {\n",
       "        vertical-align: middle;\n",
       "    }\n",
       "\n",
       "    .dataframe tbody tr th {\n",
       "        vertical-align: top;\n",
       "    }\n",
       "\n",
       "    .dataframe thead th {\n",
       "        text-align: right;\n",
       "    }\n",
       "</style>\n",
       "<table border=\"1\" class=\"dataframe\">\n",
       "  <thead>\n",
       "    <tr style=\"text-align: right;\">\n",
       "      <th></th>\n",
       "      <th>made-it</th>\n",
       "    </tr>\n",
       "    <tr>\n",
       "      <th>scholarship</th>\n",
       "      <th></th>\n",
       "    </tr>\n",
       "  </thead>\n",
       "  <tbody>\n",
       "    <tr>\n",
       "      <th>0</th>\n",
       "      <td>0.801934</td>\n",
       "    </tr>\n",
       "    <tr>\n",
       "      <th>1</th>\n",
       "      <td>0.762637</td>\n",
       "    </tr>\n",
       "  </tbody>\n",
       "</table>\n",
       "</div>"
      ],
      "text/plain": [
       "              made-it\n",
       "scholarship          \n",
       "0            0.801934\n",
       "1            0.762637"
      ]
     },
     "execution_count": 25,
     "metadata": {},
     "output_type": "execute_result"
    }
   ],
   "source": [
    "#calculate proportion of patients that made it to appointment based on whether they are part of Bolsa programme\n",
    "\n",
    "calculateProportions(df, 'scholarship', 'made-it')"
   ]
  },
  {
   "cell_type": "code",
   "execution_count": 26,
   "id": "7c7715c1",
   "metadata": {},
   "outputs": [
    {
     "data": {
      "image/png": "[encoded data removed]",
      "text/plain": [
       "<Figure size 1400x600 with 1 Axes>"
      ]
     },
     "metadata": {},
     "output_type": "display_data"
    }
   ],
   "source": [
    "#graph results\n",
    "createPlot(df, 'scholarship', 'made-it')"
   ]
  },
  {
   "cell_type": "markdown",
   "id": "914f843d",
   "metadata": {},
   "source": [
    "There is 3%p bigger chance that someone that has Bolsa-scholarship will not show up for their appointment "
   ]
  },
  {
   "cell_type": "code",
   "execution_count": 27,
   "id": "e961d1ef",
   "metadata": {},
   "outputs": [
    {
     "data": {
      "text/html": [
       "<div>\n",
       "<style scoped>\n",
       "    .dataframe tbody tr th:only-of-type {\n",
       "        vertical-align: middle;\n",
       "    }\n",
       "\n",
       "    .dataframe tbody tr th {\n",
       "        vertical-align: top;\n",
       "    }\n",
       "\n",
       "    .dataframe thead th {\n",
       "        text-align: right;\n",
       "    }\n",
       "</style>\n",
       "<table border=\"1\" class=\"dataframe\">\n",
       "  <thead>\n",
       "    <tr style=\"text-align: right;\">\n",
       "      <th></th>\n",
       "      <th>made-it</th>\n",
       "    </tr>\n",
       "    <tr>\n",
       "      <th>hipertension</th>\n",
       "      <th></th>\n",
       "    </tr>\n",
       "  </thead>\n",
       "  <tbody>\n",
       "    <tr>\n",
       "      <th>0</th>\n",
       "      <td>0.79097</td>\n",
       "    </tr>\n",
       "    <tr>\n",
       "      <th>1</th>\n",
       "      <td>0.82698</td>\n",
       "    </tr>\n",
       "  </tbody>\n",
       "</table>\n",
       "</div>"
      ],
      "text/plain": [
       "              made-it\n",
       "hipertension         \n",
       "0             0.79097\n",
       "1             0.82698"
      ]
     },
     "execution_count": 27,
     "metadata": {},
     "output_type": "execute_result"
    }
   ],
   "source": [
    "#calculate proportion of patients that made it to appointment based on hipertension\n",
    "\n",
    "calculateProportions(df, 'hipertension', 'made-it')"
   ]
  },
  {
   "cell_type": "code",
   "execution_count": 28,
   "id": "7745b12d",
   "metadata": {},
   "outputs": [
    {
     "data": {
      "image/png": "[encoded data removed]",
      "text/plain": [
       "<Figure size 1400x600 with 1 Axes>"
      ]
     },
     "metadata": {},
     "output_type": "display_data"
    }
   ],
   "source": [
    "#graph results\n",
    "createPlot(df, 'hipertension', 'made-it')"
   ]
  },
  {
   "cell_type": "markdown",
   "id": "0a26ffc1",
   "metadata": {},
   "source": [
    "Patients that are suffering from hypertension are actually showing up for their appointments more rigorously and are not missing them"
   ]
  },
  {
   "cell_type": "code",
   "execution_count": 29,
   "id": "d16387aa",
   "metadata": {},
   "outputs": [
    {
     "data": {
      "text/html": [
       "<div>\n",
       "<style scoped>\n",
       "    .dataframe tbody tr th:only-of-type {\n",
       "        vertical-align: middle;\n",
       "    }\n",
       "\n",
       "    .dataframe tbody tr th {\n",
       "        vertical-align: top;\n",
       "    }\n",
       "\n",
       "    .dataframe thead th {\n",
       "        text-align: right;\n",
       "    }\n",
       "</style>\n",
       "<table border=\"1\" class=\"dataframe\">\n",
       "  <thead>\n",
       "    <tr style=\"text-align: right;\">\n",
       "      <th></th>\n",
       "      <th>made-it</th>\n",
       "    </tr>\n",
       "    <tr>\n",
       "      <th>alcoholism</th>\n",
       "      <th></th>\n",
       "    </tr>\n",
       "  </thead>\n",
       "  <tbody>\n",
       "    <tr>\n",
       "      <th>0</th>\n",
       "      <td>0.798059</td>\n",
       "    </tr>\n",
       "    <tr>\n",
       "      <th>1</th>\n",
       "      <td>0.798512</td>\n",
       "    </tr>\n",
       "  </tbody>\n",
       "</table>\n",
       "</div>"
      ],
      "text/plain": [
       "             made-it\n",
       "alcoholism          \n",
       "0           0.798059\n",
       "1           0.798512"
      ]
     },
     "execution_count": 29,
     "metadata": {},
     "output_type": "execute_result"
    }
   ],
   "source": [
    "#calculate proportion of patients that made it to appointment based on alcoholism\n",
    "\n",
    "calculateProportions(df, 'alcoholism', 'made-it')"
   ]
  },
  {
   "cell_type": "code",
   "execution_count": 30,
   "id": "a3da1c69",
   "metadata": {},
   "outputs": [
    {
     "data": {
      "image/png": "[encoded data removed]",
      "text/plain": [
       "<Figure size 1400x600 with 1 Axes>"
      ]
     },
     "metadata": {},
     "output_type": "display_data"
    }
   ],
   "source": [
    "#graph results\n",
    "createPlot(df, 'alcoholism', 'made-it')"
   ]
  },
  {
   "cell_type": "markdown",
   "id": "56334953",
   "metadata": {},
   "source": [
    "Alcoholism also does not influence whether patient will show up or not, the numbers are pretty similar to that of overall population"
   ]
  },
  {
   "cell_type": "code",
   "execution_count": 31,
   "id": "4ad2ecae",
   "metadata": {},
   "outputs": [
    {
     "data": {
      "text/html": [
       "<div>\n",
       "<style scoped>\n",
       "    .dataframe tbody tr th:only-of-type {\n",
       "        vertical-align: middle;\n",
       "    }\n",
       "\n",
       "    .dataframe tbody tr th {\n",
       "        vertical-align: top;\n",
       "    }\n",
       "\n",
       "    .dataframe thead th {\n",
       "        text-align: right;\n",
       "    }\n",
       "</style>\n",
       "<table border=\"1\" class=\"dataframe\">\n",
       "  <thead>\n",
       "    <tr style=\"text-align: right;\">\n",
       "      <th></th>\n",
       "      <th>made-it</th>\n",
       "    </tr>\n",
       "    <tr>\n",
       "      <th>handcap</th>\n",
       "      <th></th>\n",
       "    </tr>\n",
       "  </thead>\n",
       "  <tbody>\n",
       "    <tr>\n",
       "      <th>0</th>\n",
       "      <td>0.797652</td>\n",
       "    </tr>\n",
       "    <tr>\n",
       "      <th>1</th>\n",
       "      <td>0.820764</td>\n",
       "    </tr>\n",
       "    <tr>\n",
       "      <th>2</th>\n",
       "      <td>0.797814</td>\n",
       "    </tr>\n",
       "    <tr>\n",
       "      <th>3</th>\n",
       "      <td>0.769231</td>\n",
       "    </tr>\n",
       "    <tr>\n",
       "      <th>4</th>\n",
       "      <td>0.666667</td>\n",
       "    </tr>\n",
       "  </tbody>\n",
       "</table>\n",
       "</div>"
      ],
      "text/plain": [
       "          made-it\n",
       "handcap          \n",
       "0        0.797652\n",
       "1        0.820764\n",
       "2        0.797814\n",
       "3        0.769231\n",
       "4        0.666667"
      ]
     },
     "execution_count": 31,
     "metadata": {},
     "output_type": "execute_result"
    }
   ],
   "source": [
    "#calculate proportion of patients that made it to appointment based on handcap\n",
    "calculateProportions(df, 'handcap', 'made-it')"
   ]
  },
  {
   "cell_type": "code",
   "execution_count": 32,
   "id": "daf9e236",
   "metadata": {},
   "outputs": [
    {
     "data": {
      "image/png": "[encoded data removed]",
      "text/plain": [
       "<Figure size 1400x600 with 1 Axes>"
      ]
     },
     "metadata": {},
     "output_type": "display_data"
    }
   ],
   "source": [
    "#graph results\n",
    "createPlot(df, 'handcap', 'made-it')"
   ]
  },
  {
   "cell_type": "code",
   "execution_count": 33,
   "id": "2a744d27",
   "metadata": {},
   "outputs": [
    {
     "data": {
      "text/plain": [
       "0    108284\n",
       "1      2042\n",
       "2       183\n",
       "3        13\n",
       "4         3\n",
       "Name: handcap, dtype: int64"
      ]
     },
     "execution_count": 33,
     "metadata": {},
     "output_type": "execute_result"
    }
   ],
   "source": [
    "df['handcap'].value_counts()"
   ]
  },
  {
   "cell_type": "markdown",
   "id": "79728a82",
   "metadata": {},
   "source": [
    "Show-up proportions for patients that have are disabled in two or more ways are declining \n",
    "Although we see that count of such patients is also declining rapidly (183 patients with 2 form of disability and 13 with 3), it might be good idea to take accessibility factor into account for handicapped patients"
   ]
  },
  {
   "cell_type": "code",
   "execution_count": 34,
   "id": "839862c1",
   "metadata": {},
   "outputs": [
    {
     "data": {
      "text/html": [
       "<div>\n",
       "<style scoped>\n",
       "    .dataframe tbody tr th:only-of-type {\n",
       "        vertical-align: middle;\n",
       "    }\n",
       "\n",
       "    .dataframe tbody tr th {\n",
       "        vertical-align: top;\n",
       "    }\n",
       "\n",
       "    .dataframe thead th {\n",
       "        text-align: right;\n",
       "    }\n",
       "</style>\n",
       "<table border=\"1\" class=\"dataframe\">\n",
       "  <thead>\n",
       "    <tr style=\"text-align: right;\">\n",
       "      <th></th>\n",
       "      <th>made-it</th>\n",
       "    </tr>\n",
       "    <tr>\n",
       "      <th>scheduledgroup</th>\n",
       "      <th></th>\n",
       "    </tr>\n",
       "  </thead>\n",
       "  <tbody>\n",
       "    <tr>\n",
       "      <th>the same or next day</th>\n",
       "      <td>0.953430</td>\n",
       "    </tr>\n",
       "    <tr>\n",
       "      <th>&lt;1 week</th>\n",
       "      <td>0.764994</td>\n",
       "    </tr>\n",
       "    <tr>\n",
       "      <th>&lt;2 weeks</th>\n",
       "      <td>0.723630</td>\n",
       "    </tr>\n",
       "    <tr>\n",
       "      <th>&lt;1 month</th>\n",
       "      <td>0.670906</td>\n",
       "    </tr>\n",
       "    <tr>\n",
       "      <th>&gt;1 month</th>\n",
       "      <td>0.678159</td>\n",
       "    </tr>\n",
       "  </tbody>\n",
       "</table>\n",
       "</div>"
      ],
      "text/plain": [
       "                       made-it\n",
       "scheduledgroup                \n",
       "the same or next day  0.953430\n",
       "<1 week               0.764994\n",
       "<2 weeks              0.723630\n",
       "<1 month              0.670906\n",
       ">1 month              0.678159"
      ]
     },
     "execution_count": 34,
     "metadata": {},
     "output_type": "execute_result"
    }
   ],
   "source": [
    "#calculate proportion of patients that made it to appointment based on scheduledgroup\n",
    "\n",
    "calculateProportions(df, 'scheduledgroup', 'made-it')"
   ]
  },
  {
   "cell_type": "code",
   "execution_count": 35,
   "id": "846d2782",
   "metadata": {},
   "outputs": [
    {
     "data": {
      "image/png": "[encoded data removed]",
      "text/plain": [
       "<Figure size 1400x600 with 1 Axes>"
      ]
     },
     "metadata": {},
     "output_type": "display_data"
    }
   ],
   "source": [
    "#graph results\n",
    "createPlot(df, 'made-it', 'scheduledgroup', orient='h')"
   ]
  },
  {
   "cell_type": "markdown",
   "id": "60571a32",
   "metadata": {},
   "source": [
    "There is a very clear tendency that patients do not show up more often, as more time passes between the day they've scheduled the appointment and actual appointment day"
   ]
  },
  {
   "cell_type": "code",
   "execution_count": 36,
   "id": "92e15252",
   "metadata": {},
   "outputs": [
    {
     "data": {
      "text/html": [
       "<div>\n",
       "<style scoped>\n",
       "    .dataframe tbody tr th:only-of-type {\n",
       "        vertical-align: middle;\n",
       "    }\n",
       "\n",
       "    .dataframe tbody tr th {\n",
       "        vertical-align: top;\n",
       "    }\n",
       "\n",
       "    .dataframe thead th {\n",
       "        text-align: right;\n",
       "    }\n",
       "</style>\n",
       "<table border=\"1\" class=\"dataframe\">\n",
       "  <thead>\n",
       "    <tr style=\"text-align: right;\">\n",
       "      <th></th>\n",
       "      <th>made-it</th>\n",
       "    </tr>\n",
       "    <tr>\n",
       "      <th>sms_received</th>\n",
       "      <th></th>\n",
       "    </tr>\n",
       "  </thead>\n",
       "  <tbody>\n",
       "    <tr>\n",
       "      <th>0</th>\n",
       "      <td>0.832976</td>\n",
       "    </tr>\n",
       "    <tr>\n",
       "      <th>1</th>\n",
       "      <td>0.724255</td>\n",
       "    </tr>\n",
       "  </tbody>\n",
       "</table>\n",
       "</div>"
      ],
      "text/plain": [
       "               made-it\n",
       "sms_received          \n",
       "0             0.832976\n",
       "1             0.724255"
      ]
     },
     "execution_count": 36,
     "metadata": {},
     "output_type": "execute_result"
    }
   ],
   "source": [
    "#calculate proportion of patients that made it to appointment based on sms_received\n",
    "\n",
    "calculateProportions(df, 'sms_received', 'made-it')"
   ]
  },
  {
   "cell_type": "code",
   "execution_count": 37,
   "id": "29283624",
   "metadata": {},
   "outputs": [
    {
     "data": {
      "image/png": "[encoded data removed]",
      "text/plain": [
       "<Figure size 1400x600 with 1 Axes>"
      ]
     },
     "metadata": {},
     "output_type": "display_data"
    }
   ],
   "source": [
    "#graph results\n",
    "createPlot(df, 'sms_received', 'made-it')"
   ]
  },
  {
   "cell_type": "markdown",
   "id": "689eef3a",
   "metadata": {},
   "source": [
    "These results were actually **quite surprising** to me and I decided to explore these results further"
   ]
  },
  {
   "cell_type": "code",
   "execution_count": 38,
   "id": "c8ba9e08",
   "metadata": {},
   "outputs": [
    {
     "name": "stdout",
     "output_type": "stream",
     "text": [
      "         scheduledgroup  sms_received   made-it\n",
      "0  the same or next day             0  0.953430\n",
      "1               <1 week             0  0.763292\n",
      "2               <1 week             1  0.769870\n",
      "3              <2 weeks             0  0.698231\n",
      "4              <2 weeks             1  0.740601\n",
      "5              <1 month             0  0.628809\n",
      "6              <1 month             1  0.699691\n",
      "7              >1 month             0  0.634107\n",
      "8              >1 month             1  0.704741\n"
     ]
    }
   ],
   "source": [
    "#create pivot based on difference between scheduled day and appointment day\n",
    "scheduled_sms_group_impact = pd.pivot_table(data = df, index = [\"scheduledgroup\",\"sms_received\"], values = \"made-it\").reset_index()\n",
    "print(scheduled_sms_group_impact)\n",
    "heatmap_data = scheduled_sms_group_impact.pivot(index=\"scheduledgroup\", columns=\"sms_received\", values=\"made-it\")"
   ]
  },
  {
   "cell_type": "code",
   "execution_count": 39,
   "id": "718a96a6",
   "metadata": {},
   "outputs": [
    {
     "data": {
      "image/png": "[encoded data removed]",
      "text/plain": [
       "<Figure size 1000x600 with 2 Axes>"
      ]
     },
     "metadata": {},
     "output_type": "display_data"
    }
   ],
   "source": [
    "plt.figure(figsize=(10, 6))\n",
    "sns.heatmap(heatmap_data, annot=True, fmt=\".2f\", cmap=\"YlGnBu\")\n",
    "plt.title(\"Scheduled SMS Group Impact Heatmap\")\n",
    "plt.xlabel(\"SMS Received\")\n",
    "plt.ylabel(\"Scheduled Group\")\n",
    "plt.show()"
   ]
  },
  {
   "cell_type": "markdown",
   "id": "08d57082",
   "metadata": {},
   "source": [
    ">95% of patients are showing up for the appointment that's on the same or the next day\n",
    "\n",
    "\n",
    ">the proportion is declining with every bucket, nevertheless it's clear that sending a reminder to patients that have more than 2 weeks between scheduled day and appointment day results in a bigger chance of them showing up"
   ]
  },
  {
   "cell_type": "code",
   "execution_count": 40,
   "id": "5e923880",
   "metadata": {},
   "outputs": [
    {
     "data": {
      "text/html": [
       "<div>\n",
       "<style scoped>\n",
       "    .dataframe tbody tr th:only-of-type {\n",
       "        vertical-align: middle;\n",
       "    }\n",
       "\n",
       "    .dataframe tbody tr th {\n",
       "        vertical-align: top;\n",
       "    }\n",
       "\n",
       "    .dataframe thead th {\n",
       "        text-align: right;\n",
       "    }\n",
       "</style>\n",
       "<table border=\"1\" class=\"dataframe\">\n",
       "  <thead>\n",
       "    <tr style=\"text-align: right;\">\n",
       "      <th></th>\n",
       "      <th>made-it</th>\n",
       "    </tr>\n",
       "    <tr>\n",
       "      <th>apointmentweekday</th>\n",
       "      <th></th>\n",
       "    </tr>\n",
       "  </thead>\n",
       "  <tbody>\n",
       "    <tr>\n",
       "      <th>Friday</th>\n",
       "      <td>0.787739</td>\n",
       "    </tr>\n",
       "    <tr>\n",
       "      <th>Monday</th>\n",
       "      <td>0.793519</td>\n",
       "    </tr>\n",
       "    <tr>\n",
       "      <th>Saturday</th>\n",
       "      <td>0.769231</td>\n",
       "    </tr>\n",
       "    <tr>\n",
       "      <th>Thursday</th>\n",
       "      <td>0.806506</td>\n",
       "    </tr>\n",
       "    <tr>\n",
       "      <th>Tuesday</th>\n",
       "      <td>0.799064</td>\n",
       "    </tr>\n",
       "    <tr>\n",
       "      <th>Wednesday</th>\n",
       "      <td>0.803108</td>\n",
       "    </tr>\n",
       "  </tbody>\n",
       "</table>\n",
       "</div>"
      ],
      "text/plain": [
       "                    made-it\n",
       "apointmentweekday          \n",
       "Friday             0.787739\n",
       "Monday             0.793519\n",
       "Saturday           0.769231\n",
       "Thursday           0.806506\n",
       "Tuesday            0.799064\n",
       "Wednesday          0.803108"
      ]
     },
     "execution_count": 40,
     "metadata": {},
     "output_type": "execute_result"
    }
   ],
   "source": [
    "#calculate proportion of patients that made it based on weekday of appointment\n",
    "calculateProportions(df, 'apointmentweekday', 'made-it')"
   ]
  },
  {
   "cell_type": "code",
   "execution_count": 41,
   "id": "cab22ded",
   "metadata": {},
   "outputs": [
    {
     "data": {
      "image/png": "[encoded data removed]",
      "text/plain": [
       "<Figure size 1400x600 with 1 Axes>"
      ]
     },
     "metadata": {},
     "output_type": "display_data"
    }
   ],
   "source": [
    "#graph results\n",
    "createPlot(df, 'apointmentweekday', 'made-it', order=[\"Monday\",\"Tuesday\",\"Wednesday\",\"Thursday\",\"Friday\",\"Saturday\"])"
   ]
  },
  {
   "cell_type": "code",
   "execution_count": 42,
   "id": "644eb75d",
   "metadata": {},
   "outputs": [
    {
     "data": {
      "text/plain": [
       "Wednesday    25867\n",
       "Tuesday      25640\n",
       "Monday       22714\n",
       "Friday       19019\n",
       "Thursday     17246\n",
       "Saturday        39\n",
       "Name: apointmentweekday, dtype: int64"
      ]
     },
     "execution_count": 42,
     "metadata": {},
     "output_type": "execute_result"
    }
   ],
   "source": [
    "df[\"apointmentweekday\"].value_counts()"
   ]
  },
  {
   "cell_type": "markdown",
   "id": "f4f99f89",
   "metadata": {},
   "source": [
    "The numers are pretty stable throughout the week and remain fairly close to the overall proportion - patients have bigger tendency of not showing up for their appointmens on Saturday, nevertheless number of visits is very low one compared to other days"
   ]
  },
  {
   "cell_type": "code",
   "execution_count": 43,
   "id": "93c8fe34",
   "metadata": {},
   "outputs": [
    {
     "data": {
      "text/html": [
       "<div>\n",
       "<style scoped>\n",
       "    .dataframe tbody tr th:only-of-type {\n",
       "        vertical-align: middle;\n",
       "    }\n",
       "\n",
       "    .dataframe tbody tr th {\n",
       "        vertical-align: top;\n",
       "    }\n",
       "\n",
       "    .dataframe thead th {\n",
       "        text-align: right;\n",
       "    }\n",
       "</style>\n",
       "<table border=\"1\" class=\"dataframe\">\n",
       "  <thead>\n",
       "    <tr style=\"text-align: right;\">\n",
       "      <th></th>\n",
       "      <th>made-it</th>\n",
       "    </tr>\n",
       "    <tr>\n",
       "      <th>agegroup</th>\n",
       "      <th></th>\n",
       "    </tr>\n",
       "  </thead>\n",
       "  <tbody>\n",
       "    <tr>\n",
       "      <th>Infant</th>\n",
       "      <td>0.818651</td>\n",
       "    </tr>\n",
       "    <tr>\n",
       "      <th>Toddler</th>\n",
       "      <td>0.831044</td>\n",
       "    </tr>\n",
       "    <tr>\n",
       "      <th>Kid</th>\n",
       "      <td>0.774746</td>\n",
       "    </tr>\n",
       "    <tr>\n",
       "      <th>Teen</th>\n",
       "      <td>0.733565</td>\n",
       "    </tr>\n",
       "    <tr>\n",
       "      <th>Young Adult</th>\n",
       "      <td>0.753511</td>\n",
       "    </tr>\n",
       "    <tr>\n",
       "      <th>30+</th>\n",
       "      <td>0.782480</td>\n",
       "    </tr>\n",
       "    <tr>\n",
       "      <th>40+</th>\n",
       "      <td>0.797312</td>\n",
       "    </tr>\n",
       "    <tr>\n",
       "      <th>50+</th>\n",
       "      <td>0.825002</td>\n",
       "    </tr>\n",
       "    <tr>\n",
       "      <th>60+</th>\n",
       "      <td>0.847026</td>\n",
       "    </tr>\n",
       "  </tbody>\n",
       "</table>\n",
       "</div>"
      ],
      "text/plain": [
       "              made-it\n",
       "agegroup             \n",
       "Infant       0.818651\n",
       "Toddler      0.831044\n",
       "Kid          0.774746\n",
       "Teen         0.733565\n",
       "Young Adult  0.753511\n",
       "30+          0.782480\n",
       "40+          0.797312\n",
       "50+          0.825002\n",
       "60+          0.847026"
      ]
     },
     "execution_count": 43,
     "metadata": {},
     "output_type": "execute_result"
    }
   ],
   "source": [
    "#calculate proportion of patients that made it to appointment based on agegroup\n",
    "calculateProportions(df, 'agegroup', 'made-it')"
   ]
  },
  {
   "cell_type": "code",
   "execution_count": 44,
   "id": "23b21fcc",
   "metadata": {},
   "outputs": [
    {
     "data": {
      "image/png": "[encoded data removed]",
      "text/plain": [
       "<Figure size 1400x600 with 1 Axes>"
      ]
     },
     "metadata": {},
     "output_type": "display_data"
    }
   ],
   "source": [
    "#graph results\n",
    "createPlot(df, 'made-it', 'agegroup', orient='h')"
   ]
  },
  {
   "cell_type": "markdown",
   "id": "31e3d5ed",
   "metadata": {},
   "source": [
    "We see the lowest attendance in teenagers - maybe it might be good idea to send reminders to their parents? "
   ]
  },
  {
   "cell_type": "code",
   "execution_count": 47,
   "id": "643d92ec",
   "metadata": {},
   "outputs": [
    {
     "name": "stdout",
     "output_type": "stream",
     "text": [
      "             patientid  mean_made-it  count_sms_received  count_patientid\n",
      "91       1122443646527      0.400000                   1                5\n",
      "150    112873513999765      0.400000                   2                5\n",
      "283      1144471549922      0.000000                   0                6\n",
      "407        11595147151      0.400000                   1                5\n",
      "759      1198157171975      0.478261                   0               23\n",
      "...                ...           ...                 ...              ...\n",
      "61566    9919614752526      0.200000                   4                5\n",
      "62027  997225572527538      0.333333                   1                6\n",
      "62161   99871477366383      0.250000                   3                8\n",
      "62244    9995994929266      0.181818                   0               11\n",
      "62254   99966898398164      0.400000                   1                5\n",
      "\n",
      "[250 rows x 4 columns]\n"
     ]
    }
   ],
   "source": [
    "id_impact = pd.pivot_table(data=df, index='patientid', values=['made-it', 'sms_received'], aggfunc={'made-it': 'mean', 'sms_received': 'sum'})\n",
    "\n",
    "# Rename the columns\n",
    "id_impact = id_impact.rename(columns={'made-it': 'mean_made-it', 'sms_received': 'count_sms_received'})\n",
    "\n",
    "# Add a new column for count of 'patientid'\n",
    "id_impact['count_patientid'] = df.groupby('patientid')['patientid'].count()\n",
    "\n",
    "# Reset the index to make 'patientid' a regular column\n",
    "id_impact = id_impact.reset_index()\n",
    "\n",
    "# Display the resulting DataFrame\n",
    "#print(id_impact)\n",
    "\n",
    "id_impact = id_impact[(id_impact[\"mean_made-it\"]<0.5)&(id_impact[\"count_patientid\"]>=5)]\n",
    "print(id_impact)"
   ]
  },
  {
   "cell_type": "code",
   "execution_count": 48,
   "id": "8350de8f",
   "metadata": {},
   "outputs": [
    {
     "name": "stdout",
     "output_type": "stream",
     "text": [
      "0.28681253696037845\n"
     ]
    }
   ],
   "source": [
    "sms_sent_proportion = id_impact[\"count_sms_received\"].sum()/id_impact[\"count_patientid\"].sum()\n",
    "print(sms_sent_proportion)"
   ]
  },
  {
   "cell_type": "markdown",
   "id": "c78211a5",
   "metadata": {},
   "source": [
    "I have also identified 250 patients that have made an appointment 5 or more times and showed up for less than half of them. We also saw in analysis that sending a reminder increases chances of patient showing up - maybe we should target at least these patients and make sure that they are being reminded of their visit or, if possible, call them? "
   ]
  },
  {
   "cell_type": "markdown",
   "id": "f127b8e6",
   "metadata": {},
   "source": [
    "## Conclusion"
   ]
  },
  {
   "cell_type": "markdown",
   "id": "b247ad02",
   "metadata": {},
   "source": [
    "As conclusion for this analysis, let's answer 4 question that I've posed at the beginning:\n",
    "1. Is there a difference between scheduled day and appointment day - do patients that make an appointment much in advance tend not to show up? \n",
    ">Yes, there is visible drop in proportions of \"no-shows\" the more in advance patient made an appoitment\n",
    "2. Is alcoholism influencing whether patients show up more often or not? \n",
    ">No\n",
    "3. Are we increasing chances of patient showing up if we're sending reminders?\n",
    ">Yes, it increases chances of patient showing up for the appointment by ca. 7%p when patient made the appointment more than 2 weeks in advance\n",
    "4. Are there any patients that have a pattern of not showing up? Should we focus on some patients and send them reminders about the visit? \n",
    ">I've identified ca. 1000 patients that made at least 5 appointments and showed up for less than 50% of them. Reminders were sent only in 28% of the visits - it might be a good idea to either implement a system that will send reminders to everyone or focus on these patients that have a big tendency of not showing up\n",
    "\n",
    "Overall, we can see that what might have the biggest impact on whether patient shows up for his/her appointment is the time that passed between the day they've scheduled it on and appointment day. We can increase chances of a patient showing up by sending them message with a reminder. Teenagers are also slacking on showing up - well, to be again young and careless... Nevertheless it might be good idea to consider also sending some reminders to their guardians if possible?\n",
    "Last but not least, we've also seen that what has a big impact is number of disabilities that patient is experiencing, which may influence their ability of actually getting to the facility\n",
    "\n",
    "\n",
    "\n",
    "There are numbers of ways this could be explored further - for example do these patients that have a tendency of not showing up, show up more often when they receive a reminder? Do they have any form of disability? "
   ]
  }
 ],
 "metadata": {
  "kernelspec": {
   "display_name": "Python 3 (ipykernel)",
   "language": "python",
   "name": "python3"
  },
  "language_info": {
   "codemirror_mode": {
    "name": "ipython",
    "version": 3
   },
   "file_extension": ".py",
   "mimetype": "text/x-python",
   "name": "python",
   "nbconvert_exporter": "python",
   "pygments_lexer": "ipython3",
   "version": "3.7.16"
  }
 },
 "nbformat": 4,
 "nbformat_minor": 5
}
